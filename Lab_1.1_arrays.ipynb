{
 "cells": [
  {
   "cell_type": "markdown",
   "id": "27fbde22",
   "metadata": {},
   "source": [
    "Варианты установки NumPy:\n",
    "\n",
    "1. !pip install numpy\n",
    "2. !conda install numpy\n",
    "3. !pip install --upgrade numpy"
   ]
  },
  {
   "cell_type": "code",
   "execution_count": null,
   "id": "e56c5869",
   "metadata": {},
   "outputs": [],
   "source": [
    "import numpy as np\n",
    "import pandas as pd\n",
    "import time\n",
    "import random\n",
    "import plotly.express as px"
   ]
  },
  {
   "cell_type": "code",
   "execution_count": null,
   "id": "5140549d",
   "metadata": {},
   "outputs": [],
   "source": [
    "# Время выполнения функции\n",
    "\n",
    "def get_time(function):\n",
    "    def wrapper(*args, **kwargs):\n",
    "        time_start = time.perf_counter()\n",
    "        result = function(*args, **kwargs)\n",
    "        time_end = time.perf_counter()\n",
    "        return (time_end - time_start)\n",
    "    return wrapper"
   ]
  },
  {
   "cell_type": "markdown",
   "id": "e777358c",
   "metadata": {},
   "source": [
    "## Время создания массивов"
   ]
  },
  {
   "cell_type": "code",
   "execution_count": null,
   "id": "ed12108a",
   "metadata": {},
   "outputs": [],
   "source": [
    "@get_time\n",
    "def create_random_numpy_array(size):\n",
    "    return np.random.rand(size)\n",
    "\n",
    "@get_time\n",
    "def create_random_python_array(size):\n",
    "    return [random.random() for i in range(size)]"
   ]
  },
  {
   "cell_type": "code",
   "execution_count": null,
   "id": "56ff34f5",
   "metadata": {},
   "outputs": [],
   "source": [
    "test_sizes = 10 ** np.array([3, 4, 5, 6, 7])\n",
    "# 10^3, 10^4, ..."
   ]
  },
  {
   "cell_type": "code",
   "execution_count": null,
   "id": "f3062174",
   "metadata": {},
   "outputs": [],
   "source": [
    "numpy_time = [\n",
    "    create_random_numpy_array(size) \n",
    "    for size in test_sizes\n",
    "]\n",
    "\n",
    "python_time = [\n",
    "    create_random_python_array(size)\n",
    "    for size in test_sizes\n",
    "]"
   ]
  },
  {
   "cell_type": "code",
   "execution_count": null,
   "id": "fd4f6f0d",
   "metadata": {},
   "outputs": [],
   "source": [
    "df_time = pd.DataFrame({\n",
    "    'NumPy': numpy_time,\n",
    "    'Python': python_time\n",
    "})"
   ]
  },
  {
   "cell_type": "code",
   "execution_count": null,
   "id": "4c255f09",
   "metadata": {},
   "outputs": [],
   "source": [
    "fig = px.line(\n",
    "    df_time, \n",
    "    log_y=True, \n",
    "    template='plotly_white'\n",
    ")\n",
    "\n",
    "fig.show()"
   ]
  },
  {
   "cell_type": "markdown",
   "id": "75f730f9",
   "metadata": {},
   "source": [
    "## Время создания матриц"
   ]
  },
  {
   "cell_type": "code",
   "execution_count": null,
   "id": "76408e2a",
   "metadata": {},
   "outputs": [],
   "source": [
    "@get_time\n",
    "def create_random_numpy_matrix(size):\n",
    "    return np.random.rand(size, size)\n",
    "\n",
    "@get_time\n",
    "def create_random_python_matrix(size):\n",
    "    return [[random.random() \n",
    "             for i in range(size)] \n",
    "             for j in range(size)]"
   ]
  },
  {
   "cell_type": "code",
   "execution_count": null,
   "id": "7117d293",
   "metadata": {},
   "outputs": [],
   "source": [
    "test_sizes = 2 ** np.array([5, 6, 7, 8, 9, 10])\n",
    "# 2^5, 2^6, ...\n",
    "# При размере матрицы 10^n\n",
    "# очень быстро росло время выполнения"
   ]
  },
  {
   "cell_type": "code",
   "execution_count": null,
   "id": "e26d2550",
   "metadata": {},
   "outputs": [],
   "source": [
    "numpy_time = [\n",
    "    create_random_numpy_matrix(size) \n",
    "    for size in test_sizes\n",
    "]\n",
    "\n",
    "python_time = [\n",
    "    create_random_python_matrix(size)\n",
    "    for size in test_sizes\n",
    "]"
   ]
  },
  {
   "cell_type": "code",
   "execution_count": null,
   "id": "87c20236",
   "metadata": {},
   "outputs": [],
   "source": [
    "df_time = pd.DataFrame({\n",
    "    'NumPy': numpy_time,\n",
    "    'Python': python_time\n",
    "})"
   ]
  },
  {
   "cell_type": "code",
   "execution_count": null,
   "id": "45379aed",
   "metadata": {},
   "outputs": [],
   "source": [
    "fig = px.line(\n",
    "    df_time, \n",
    "    log_y=True, \n",
    "    template='plotly_white'\n",
    ")\n",
    "\n",
    "fig.show()"
   ]
  },
  {
   "cell_type": "markdown",
   "id": "62f57374",
   "metadata": {},
   "source": [
    "Почему numpy быстрее:\n",
    "1. Питон использует связные списки, numpy - настоящие массивы\n",
    "2. Numpy использует C, который быстрее за счет компиляции"
   ]
  },
  {
   "cell_type": "code",
   "execution_count": null,
   "id": "1a9e75a2",
   "metadata": {},
   "outputs": [],
   "source": []
  },
  {
   "cell_type": "markdown",
   "id": "7bdf640c",
   "metadata": {},
   "source": [
    "## Операции с массивами"
   ]
  },
  {
   "cell_type": "code",
   "execution_count": null,
   "id": "c4e27f30",
   "metadata": {},
   "outputs": [],
   "source": [
    "size = 5\n",
    "a = np.random.randint(1, 9, (size, size))\n",
    "b = np.random.randint(1, 9, (size, size))"
   ]
  },
  {
   "cell_type": "code",
   "execution_count": null,
   "id": "bd12056a",
   "metadata": {},
   "outputs": [],
   "source": [
    "a + b"
   ]
  },
  {
   "cell_type": "code",
   "execution_count": null,
   "id": "c6fc7122",
   "metadata": {},
   "outputs": [],
   "source": [
    "a - b"
   ]
  },
  {
   "cell_type": "code",
   "execution_count": null,
   "id": "1f7fa0bc",
   "metadata": {},
   "outputs": [],
   "source": [
    "# Поэлементное перемножение,\n",
    "# умножение матриц - np.dot\n",
    "a * b"
   ]
  },
  {
   "cell_type": "code",
   "execution_count": null,
   "id": "27cf0f38",
   "metadata": {},
   "outputs": [],
   "source": [
    "a / b"
   ]
  },
  {
   "cell_type": "code",
   "execution_count": null,
   "id": "ef21ccdf",
   "metadata": {},
   "outputs": [],
   "source": [
    "# Целочисленное деление\n",
    "a // b"
   ]
  },
  {
   "cell_type": "code",
   "execution_count": null,
   "id": "61921eab",
   "metadata": {},
   "outputs": [],
   "source": [
    "a ** b"
   ]
  },
  {
   "cell_type": "code",
   "execution_count": null,
   "id": "7b119b24",
   "metadata": {},
   "outputs": [],
   "source": [
    "a.sum(axis=1)"
   ]
  },
  {
   "cell_type": "code",
   "execution_count": null,
   "id": "5d8b5df6",
   "metadata": {},
   "outputs": [],
   "source": [
    "a.cumsum(axis=1)"
   ]
  },
  {
   "cell_type": "code",
   "execution_count": null,
   "id": "65b49a24",
   "metadata": {},
   "outputs": [],
   "source": [
    "a.prod(axis=0)"
   ]
  },
  {
   "cell_type": "code",
   "execution_count": null,
   "id": "a4720606",
   "metadata": {},
   "outputs": [],
   "source": [
    "np.dot(a, b)"
   ]
  },
  {
   "cell_type": "code",
   "execution_count": null,
   "id": "b95c599b",
   "metadata": {},
   "outputs": [],
   "source": []
  }
 ],
 "metadata": {
  "kernelspec": {
   "display_name": "Python 3 (ipykernel)",
   "language": "python",
   "name": "python3"
  },
  "language_info": {
   "codemirror_mode": {
    "name": "ipython",
    "version": 3
   },
   "file_extension": ".py",
   "mimetype": "text/x-python",
   "name": "python",
   "nbconvert_exporter": "python",
   "pygments_lexer": "ipython3",
   "version": "3.9.13"
  }
 },
 "nbformat": 4,
 "nbformat_minor": 5
}
