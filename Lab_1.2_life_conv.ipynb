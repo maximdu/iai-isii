{
 "cells": [
  {
   "cell_type": "markdown",
   "id": "333014eb",
   "metadata": {},
   "source": [
    "Реализация Game of Life, используя свертку"
   ]
  },
  {
   "cell_type": "code",
   "execution_count": null,
   "id": "5e699d2d",
   "metadata": {},
   "outputs": [],
   "source": [
    "import numpy as np\n",
    "import scipy\n",
    "import plotly.graph_objects as go"
   ]
  },
  {
   "cell_type": "markdown",
   "id": "a220d3b5",
   "metadata": {},
   "source": [
    "## Логика"
   ]
  },
  {
   "cell_type": "code",
   "execution_count": null,
   "id": "3ca14355",
   "metadata": {},
   "outputs": [],
   "source": [
    "@np.vectorize\n",
    "def next_state(state, n_neighbours):\n",
    "    # Оживает\n",
    "    if state == 0 and n_neighbours == 3:\n",
    "        return 1\n",
    "    # Продолжает жить\n",
    "    if state == 1 and (n_neighbours == 2 or n_neighbours == 3):\n",
    "        return 1\n",
    "    return 0"
   ]
  },
  {
   "cell_type": "code",
   "execution_count": null,
   "id": "08ee70a5",
   "metadata": {},
   "outputs": [],
   "source": [
    "filt = np.array([\n",
    "    [1, 1, 1],\n",
    "    [1, 0, 1],\n",
    "    [1, 1, 1]\n",
    "])"
   ]
  },
  {
   "cell_type": "code",
   "execution_count": null,
   "id": "1ce836cb",
   "metadata": {},
   "outputs": [],
   "source": [
    "def get_n_neighbours(board, filt):\n",
    "    return scipy.signal.convolve2d(\n",
    "        board, \n",
    "        filt, \n",
    "        mode='same', \n",
    "        boundary='fill', \n",
    "        fillvalue=0\n",
    "    )"
   ]
  },
  {
   "cell_type": "code",
   "execution_count": null,
   "id": "b633a458",
   "metadata": {},
   "outputs": [],
   "source": [
    "def game_of_life(board, n_iterations):\n",
    "    boards = [board]\n",
    "    for i in range(n_iterations-1):\n",
    "        n_neighbours = get_n_neighbours(board, filt)\n",
    "        board = next_state(board, n_neighbours)\n",
    "        boards.append(board)\n",
    "    return boards"
   ]
  },
  {
   "cell_type": "markdown",
   "id": "a3f42b65",
   "metadata": {},
   "source": [
    "## Игра"
   ]
  },
  {
   "cell_type": "code",
   "execution_count": null,
   "id": "1571d77f",
   "metadata": {},
   "outputs": [],
   "source": [
    "N = 100\n",
    "p = 0.5\n",
    "n_iterations = 100\n",
    "\n",
    "board = np.random.choice([0, 1], size=[N, N], p=[1-p, p])\n",
    "boards = game_of_life(board, n_iterations)"
   ]
  },
  {
   "cell_type": "markdown",
   "id": "c8983962",
   "metadata": {},
   "source": [
    "## Анимация"
   ]
  },
  {
   "cell_type": "code",
   "execution_count": null,
   "id": "313950fa",
   "metadata": {},
   "outputs": [],
   "source": [
    "fig = go.Figure(\n",
    "    data=go.Heatmap(z=boards[0]),\n",
    "    frames=[\n",
    "        go.Frame(data=go.Heatmap(z=boards[i]))\n",
    "        for i in range(n_iterations)\n",
    "    ]\n",
    ")\n",
    "\n",
    "fig.update_traces(\n",
    "    showscale=False,\n",
    "    colorscale=['white', 'green']\n",
    ")\n",
    "\n",
    "fig.update_layout(\n",
    "    height=900,\n",
    "    width=900\n",
    ")\n",
    "# Сохраняем анимацию в формате html\n",
    "fig.write_html('plots/random_1.html')"
   ]
  },
  {
   "cell_type": "code",
   "execution_count": null,
   "id": "d132f0bd",
   "metadata": {},
   "outputs": [],
   "source": []
  },
  {
   "cell_type": "code",
   "execution_count": null,
   "id": "098c7099",
   "metadata": {},
   "outputs": [],
   "source": []
  }
 ],
 "metadata": {
  "kernelspec": {
   "display_name": "Python 3 (ipykernel)",
   "language": "python",
   "name": "python3"
  },
  "language_info": {
   "codemirror_mode": {
    "name": "ipython",
    "version": 3
   },
   "file_extension": ".py",
   "mimetype": "text/x-python",
   "name": "python",
   "nbconvert_exporter": "python",
   "pygments_lexer": "ipython3",
   "version": "3.9.13"
  }
 },
 "nbformat": 4,
 "nbformat_minor": 5
}
