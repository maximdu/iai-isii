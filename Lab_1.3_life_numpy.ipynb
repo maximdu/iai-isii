{
 "cells": [
  {
   "cell_type": "markdown",
   "id": "887367b0",
   "metadata": {},
   "source": [
    "Game of life на чистом NumPy"
   ]
  },
  {
   "cell_type": "code",
   "execution_count": null,
   "id": "ef4f162a",
   "metadata": {},
   "outputs": [],
   "source": [
    "import numpy as np\n",
    "import plotly.graph_objects as go"
   ]
  },
  {
   "cell_type": "markdown",
   "id": "83204ff4",
   "metadata": {},
   "source": [
    "## Логика"
   ]
  },
  {
   "cell_type": "code",
   "execution_count": null,
   "id": "768db893",
   "metadata": {},
   "outputs": [],
   "source": [
    "def add_zero_border(board):\n",
    "    \"\"\"Добавляет границу из ноликов\"\"\"\n",
    "    return np.pad(board, [(1, 1), (1, 1)], constant_values=0)"
   ]
  },
  {
   "cell_type": "code",
   "execution_count": null,
   "id": "29199f7e",
   "metadata": {},
   "outputs": [],
   "source": [
    "def get_n_neighbours(board):\n",
    "    \"\"\"Считает число соседей\"\"\"\n",
    "    a = add_zero_border(board)\n",
    "    return (\n",
    "        a[:-2, :-2]  + a[1:-1, :-2] + a[2:, :-2]  + \n",
    "        a[:-2, 1:-1] + 0            + a[2:, 1:-1] + \n",
    "        a[:-2, 2:]   + a[1:-1, 2:]  + a[2:, 2:]\n",
    "    )\n",
    "\n",
    "# Ноль в центре, потому что\n",
    "# саму клетку не считаем за соседа"
   ]
  },
  {
   "cell_type": "code",
   "execution_count": null,
   "id": "5b58ec86",
   "metadata": {},
   "outputs": [],
   "source": [
    "def next_state(board, n_neighbours):\n",
    "    new_life = (board == 0) & (n_neighbours == 3)\n",
    "    continue_life = (board == 1) & ((n_neighbours == 2) | (n_neighbours == 3))\n",
    "    return np.where(new_life|continue_life, 1, 0)"
   ]
  },
  {
   "cell_type": "code",
   "execution_count": null,
   "id": "d94175f4",
   "metadata": {},
   "outputs": [],
   "source": [
    "def game_of_life(board, n_iterations):\n",
    "    boards = [board]\n",
    "    for i in range(n_iterations-1):\n",
    "        n_neighbours = get_n_neighbours(board)\n",
    "        board = next_state(board, n_neighbours)\n",
    "        boards.append(board)\n",
    "    return boards"
   ]
  },
  {
   "cell_type": "markdown",
   "id": "30dce8d2",
   "metadata": {},
   "source": [
    "## Игра"
   ]
  },
  {
   "cell_type": "code",
   "execution_count": null,
   "id": "46a728b7",
   "metadata": {},
   "outputs": [],
   "source": [
    "N = 100\n",
    "p = 0.5\n",
    "n_iterations = 100\n",
    "\n",
    "board = np.random.choice([0, 1], size=[N, N], p=[1-p, p])\n",
    "boards = game_of_life(board, n_iterations)"
   ]
  },
  {
   "cell_type": "markdown",
   "id": "e6a1307c",
   "metadata": {},
   "source": [
    "## Анимация"
   ]
  },
  {
   "cell_type": "code",
   "execution_count": null,
   "id": "f824a1e2",
   "metadata": {},
   "outputs": [],
   "source": [
    "fig = go.Figure(\n",
    "    data=go.Heatmap(z=boards[0]),\n",
    "    frames=[\n",
    "        go.Frame(data=go.Heatmap(z=boards[i]))\n",
    "        for i in range(n_iterations)\n",
    "    ]\n",
    ")\n",
    "\n",
    "fig.update_traces(\n",
    "    showscale=False,\n",
    "    colorscale=['white', 'green']\n",
    ")\n",
    "\n",
    "fig.update_layout(\n",
    "    height=900,\n",
    "    width=900\n",
    ")\n",
    "\n",
    "# Сохраняем анимацию в формате html\n",
    "fig.write_html('plots/random_2.html')"
   ]
  },
  {
   "cell_type": "code",
   "execution_count": null,
   "id": "75e689ae",
   "metadata": {},
   "outputs": [],
   "source": []
  },
  {
   "cell_type": "code",
   "execution_count": null,
   "id": "18414e7f",
   "metadata": {},
   "outputs": [],
   "source": []
  }
 ],
 "metadata": {
  "kernelspec": {
   "display_name": "Python 3 (ipykernel)",
   "language": "python",
   "name": "python3"
  },
  "language_info": {
   "codemirror_mode": {
    "name": "ipython",
    "version": 3
   },
   "file_extension": ".py",
   "mimetype": "text/x-python",
   "name": "python",
   "nbconvert_exporter": "python",
   "pygments_lexer": "ipython3",
   "version": "3.9.13"
  }
 },
 "nbformat": 4,
 "nbformat_minor": 5
}
