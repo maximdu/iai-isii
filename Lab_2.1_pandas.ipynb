{
 "cells": [
  {
   "cell_type": "markdown",
   "id": "4f7878f3",
   "metadata": {},
   "source": [
    "# Работа с табличными данными в Pandas"
   ]
  },
  {
   "cell_type": "code",
   "execution_count": null,
   "id": "21a59172",
   "metadata": {},
   "outputs": [],
   "source": [
    "# Для оформления вывод убран при помощи ;"
   ]
  },
  {
   "cell_type": "code",
   "execution_count": null,
   "id": "528c19ea",
   "metadata": {},
   "outputs": [],
   "source": [
    "import numpy as np\n",
    "import pandas as pd"
   ]
  },
  {
   "cell_type": "markdown",
   "id": "e4d62c8a",
   "metadata": {},
   "source": [
    "## Задание 1"
   ]
  },
  {
   "cell_type": "code",
   "execution_count": null,
   "id": "35e06410",
   "metadata": {},
   "outputs": [],
   "source": [
    "# Читаем данные\n",
    "df = pd.read_csv(\n",
    "    'data/info.csv',\n",
    "    # Лучше сразу указать значения,\n",
    "    # которые будем считать пропущенными\n",
    "    na_values=['#Н/Д', '=#N/A']\n",
    ")\n",
    "\n",
    "# Убираем \"\\r\\n\" в названиях столбцов\n",
    "df.columns = df.columns.str.replace('\\r\\n', ' ', regex=False)\n",
    "\n",
    "# Переводим даты в формат\n",
    "date_columns = [\n",
    "    'Срок действия сертификата',\n",
    "    'Информация об окончании срока технической поддержки, полученная от заявителя'\n",
    "]\n",
    "for i in date_columns:\n",
    "    # Значение \"бессрочно\" заменяем для парсинга\n",
    "    df[i].replace({'бессрочно': '01.01.2200'}, inplace=True)\n",
    "    df[i] = pd.to_datetime(df[i], dayfirst=True)"
   ]
  },
  {
   "cell_type": "code",
   "execution_count": null,
   "id": "a6656e80",
   "metadata": {},
   "outputs": [],
   "source": [
    "df;"
   ]
  },
  {
   "cell_type": "code",
   "execution_count": null,
   "id": "ea7f33a4",
   "metadata": {},
   "outputs": [],
   "source": []
  },
  {
   "cell_type": "markdown",
   "id": "82cc13bb",
   "metadata": {},
   "source": [
    "## Задание 2"
   ]
  },
  {
   "cell_type": "code",
   "execution_count": null,
   "id": "d002f68f",
   "metadata": {},
   "outputs": [],
   "source": [
    "# Заберем в отдельную переменную, чтобы не испортить данные\n",
    "doc_names = df['Наименования документов, требованиям которых соответствует средство']"
   ]
  },
  {
   "cell_type": "code",
   "execution_count": null,
   "id": "8096f981",
   "metadata": {},
   "outputs": [],
   "source": [
    "# Уберем приставку\n",
    "doc_names = doc_names.str.replace('Соответствует требованиям документов: ', '')\n",
    "# Поделим строки по запятой\n",
    "doc_names = doc_names.str.split(', ', expand=True)\n",
    "doc_names = doc_names.values.flatten()"
   ]
  },
  {
   "cell_type": "code",
   "execution_count": null,
   "id": "49c02b8b",
   "metadata": {},
   "outputs": [],
   "source": [
    "# Уберем пропущенные значения\n",
    "doc_names = doc_names[~pd.isna(doc_names)]\n",
    "# Считаем уникальные значения\n",
    "unique = np.unique(doc_names)"
   ]
  },
  {
   "cell_type": "code",
   "execution_count": null,
   "id": "c9c54f1d",
   "metadata": {},
   "outputs": [],
   "source": [
    "len(unique)"
   ]
  },
  {
   "cell_type": "code",
   "execution_count": null,
   "id": "cbed14eb",
   "metadata": {},
   "outputs": [],
   "source": [
    "unique;"
   ]
  },
  {
   "cell_type": "code",
   "execution_count": null,
   "id": "2b1c6cd7",
   "metadata": {},
   "outputs": [],
   "source": []
  },
  {
   "cell_type": "markdown",
   "id": "f0bea2b5",
   "metadata": {},
   "source": [
    "## Задание 3"
   ]
  },
  {
   "cell_type": "code",
   "execution_count": null,
   "id": "e310e21a",
   "metadata": {},
   "outputs": [],
   "source": [
    "# Аналогичные шаги, но ...\n",
    "doc_names = df['Наименования документов, требованиям которых соответствует средство']\n",
    "doc_names = doc_names.str.replace('Соответствует требованиям документов: ', '')\n",
    "# ... не делаем expand и заменим пропущенные\n",
    "doc_names = doc_names.str.split(', ').fillna('-')"
   ]
  },
  {
   "cell_type": "code",
   "execution_count": null,
   "id": "0d3922de",
   "metadata": {},
   "outputs": [],
   "source": [
    "# Можно попробовать .str.contains, но так надежнее\n",
    "doc_1 = doc_names.map(lambda str_list: 'ТУ' in str_list)\n",
    "doc_2 = doc_names.map(lambda str_list: 'Требования доверия(5)' in str_list)\n",
    "\n",
    "filt = doc_1 & doc_1"
   ]
  },
  {
   "cell_type": "code",
   "execution_count": null,
   "id": "bb1e5996",
   "metadata": {},
   "outputs": [],
   "source": [
    "df[filt];"
   ]
  },
  {
   "cell_type": "code",
   "execution_count": null,
   "id": "6f541d4d",
   "metadata": {},
   "outputs": [],
   "source": []
  },
  {
   "cell_type": "markdown",
   "id": "3687205d",
   "metadata": {},
   "source": [
    "## Задание 4"
   ]
  },
  {
   "cell_type": "code",
   "execution_count": null,
   "id": "fc5bff18",
   "metadata": {},
   "outputs": [],
   "source": [
    "# normalize переводит к полночи\n",
    "# Можно не использовать, тогда будет текущее время\n",
    "today = pd.to_datetime('today').normalize()"
   ]
  },
  {
   "cell_type": "code",
   "execution_count": null,
   "id": "5c4748b3",
   "metadata": {},
   "outputs": [],
   "source": [
    "certificate_has_expired = df['Срок действия сертификата'] < today"
   ]
  },
  {
   "cell_type": "code",
   "execution_count": null,
   "id": "0b39027e",
   "metadata": {},
   "outputs": [],
   "source": [
    "df[certificate_has_expired];"
   ]
  },
  {
   "cell_type": "code",
   "execution_count": null,
   "id": "83abc1e7",
   "metadata": {},
   "outputs": [],
   "source": []
  },
  {
   "cell_type": "markdown",
   "id": "d67ea054",
   "metadata": {},
   "source": [
    "## Задание 5"
   ]
  },
  {
   "cell_type": "code",
   "execution_count": null,
   "id": "9815b183",
   "metadata": {},
   "outputs": [],
   "source": [
    "tech_support_active = df['Информация об окончании срока технической поддержки, полученная от заявителя'] > today\n",
    "# Пропущенные значения вернут False\n",
    "# Если интерпретировать их как \"неизвестно\", то их нужно отфильтровать"
   ]
  },
  {
   "cell_type": "code",
   "execution_count": null,
   "id": "4d12b276",
   "metadata": {},
   "outputs": [],
   "source": [
    "df[certificate_has_expired & tech_support_active];"
   ]
  },
  {
   "cell_type": "code",
   "execution_count": null,
   "id": "74b08661",
   "metadata": {},
   "outputs": [],
   "source": []
  },
  {
   "cell_type": "markdown",
   "id": "e737951c",
   "metadata": {},
   "source": [
    "## Задание 6"
   ]
  },
  {
   "cell_type": "code",
   "execution_count": null,
   "id": "644840a3",
   "metadata": {},
   "outputs": [],
   "source": [
    "# Пропуски заменим\n",
    "df['Испытательная лаборатория'] = df['Испытательная лаборатория'].fillna('Нет информации')"
   ]
  },
  {
   "cell_type": "code",
   "execution_count": null,
   "id": "d033b11f",
   "metadata": {},
   "outputs": [],
   "source": [
    "# Вариант 1\n",
    "\n",
    "# В регулярных выражениях | означает \"или\"\n",
    "firm_types = ['ООО', 'ЗАО', 'ПАО', 'АО']\n",
    "regex_or = '|'.join(firm_types)\n",
    "\n",
    "filt_regex = df['Испытательная лаборатория'].str.contains(regex_or, regex=True)"
   ]
  },
  {
   "cell_type": "code",
   "execution_count": null,
   "id": "a2c5f370",
   "metadata": {},
   "outputs": [],
   "source": [
    "# Вариант 2\n",
    "\n",
    "# Используем lambda + map\n",
    "# В некоторых случаях такой вариант может быть проще\n",
    "\n",
    "str_func = lambda string: any(firm_type in string for firm_type in firm_types)\n",
    "filt_lambda = df['Испытательная лаборатория'].map(str_func)"
   ]
  },
  {
   "cell_type": "code",
   "execution_count": null,
   "id": "52991751",
   "metadata": {},
   "outputs": [],
   "source": [
    "# Проверим, что результаты совпадают\n",
    "(filt_regex == filt_lambda).all()"
   ]
  },
  {
   "cell_type": "code",
   "execution_count": null,
   "id": "9b6a9700",
   "metadata": {},
   "outputs": [],
   "source": [
    "df[filt_regex];"
   ]
  },
  {
   "cell_type": "code",
   "execution_count": null,
   "id": "92e0073f",
   "metadata": {},
   "outputs": [],
   "source": []
  }
 ],
 "metadata": {
  "kernelspec": {
   "display_name": "Python 3 (ipykernel)",
   "language": "python",
   "name": "python3"
  },
  "language_info": {
   "codemirror_mode": {
    "name": "ipython",
    "version": 3
   },
   "file_extension": ".py",
   "mimetype": "text/x-python",
   "name": "python",
   "nbconvert_exporter": "python",
   "pygments_lexer": "ipython3",
   "version": "3.9.13"
  }
 },
 "nbformat": 4,
 "nbformat_minor": 5
}
