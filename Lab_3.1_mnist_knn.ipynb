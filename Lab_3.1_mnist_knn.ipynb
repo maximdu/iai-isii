{
 "cells": [
  {
   "cell_type": "markdown",
   "id": "42cb7658",
   "metadata": {},
   "source": [
    "# Классификация рукописных цифр при помощи метода KNN"
   ]
  },
  {
   "cell_type": "code",
   "execution_count": null,
   "id": "b6d4faee",
   "metadata": {},
   "outputs": [],
   "source": [
    "# База\n",
    "import numpy as np\n",
    "import pandas as pd\n",
    "# Модели и метрики\n",
    "from sklearn.model_selection import train_test_split, StratifiedKFold\n",
    "from sklearn.metrics import accuracy_score, confusion_matrix\n",
    "from sklearn.neighbors import KNeighborsClassifier\n",
    "from sklearn.decomposition import PCA\n",
    "# Визуализация\n",
    "import plotly.express as px"
   ]
  },
  {
   "cell_type": "code",
   "execution_count": null,
   "id": "93f26692",
   "metadata": {},
   "outputs": [],
   "source": [
    "# Важные константы\n",
    "# Для воспроизводимости\n",
    "SEED = 202212\n",
    "# Размер изображений\n",
    "SHAPE = (28, 28)"
   ]
  },
  {
   "cell_type": "markdown",
   "id": "dad2a2d3",
   "metadata": {},
   "source": [
    "## Загружаем данные"
   ]
  },
  {
   "cell_type": "markdown",
   "id": "fcbbfe4d",
   "metadata": {},
   "source": [
    "> **Источник данных:**\n",
    ">\n",
    "> https://www.kaggle.com/datasets/oddrationale/mnist-in-csv"
   ]
  },
  {
   "cell_type": "code",
   "execution_count": null,
   "id": "62b0d80b",
   "metadata": {},
   "outputs": [],
   "source": [
    "# Датасет уже разделен на две части,\n",
    "# но мы потом поделим сами\n",
    "df = pd.concat(\n",
    "    [\n",
    "        pd.read_csv('data/mnist_train.csv'),\n",
    "        pd.read_csv('data/mnist_test.csv'),\n",
    "    ], \n",
    "    ignore_index=True\n",
    ")"
   ]
  },
  {
   "cell_type": "code",
   "execution_count": null,
   "id": "59ef1f97",
   "metadata": {},
   "outputs": [],
   "source": [
    "# Экономия памяти\n",
    "df = df.astype(np.int16)"
   ]
  },
  {
   "cell_type": "code",
   "execution_count": null,
   "id": "6cbf277c",
   "metadata": {},
   "outputs": [],
   "source": [
    "# Достаточно взять 7000 примеров, или 10%\n",
    "# Для ускорения работы\n",
    "df = df.sample(frac=0.10, random_state=SEED, ignore_index=True)"
   ]
  },
  {
   "cell_type": "code",
   "execution_count": null,
   "id": "4bd47f9d",
   "metadata": {},
   "outputs": [],
   "source": [
    "# Отделяем целевую переменную\n",
    "X = df.drop(columns=['label'])\n",
    "y = df['label']"
   ]
  },
  {
   "cell_type": "markdown",
   "id": "da450b52",
   "metadata": {},
   "source": [
    "## Посмотрим на данные"
   ]
  },
  {
   "cell_type": "code",
   "execution_count": null,
   "id": "ee20cae3",
   "metadata": {},
   "outputs": [],
   "source": [
    "def show_image(array):\n",
    "    \"\"\"Показывает изображение\"\"\"\n",
    "    matrix = array.reshape(SHAPE)\n",
    "    \n",
    "    fig = px.imshow(\n",
    "        matrix, \n",
    "        color_continuous_scale=['white', 'black']\n",
    "    )\n",
    "    fig.update_layout(\n",
    "        width=650, \n",
    "        height=650, \n",
    "        coloraxis_showscale=False\n",
    "    )\n",
    "    \n",
    "    fig.show()"
   ]
  },
  {
   "cell_type": "markdown",
   "id": "efd17de0",
   "metadata": {},
   "source": [
    "### Примеры изображений"
   ]
  },
  {
   "cell_type": "code",
   "execution_count": null,
   "id": "6a352c51",
   "metadata": {
    "scrolled": false
   },
   "outputs": [],
   "source": [
    "for i in range(4):\n",
    "    print(f'Цифра: {y[i]}')\n",
    "    print(f'Изображение:')\n",
    "    show_image(X.values[i])"
   ]
  },
  {
   "cell_type": "markdown",
   "id": "32744d33",
   "metadata": {},
   "source": [
    "### Проверим сбалансированность классов"
   ]
  },
  {
   "cell_type": "code",
   "execution_count": null,
   "id": "552de884",
   "metadata": {},
   "outputs": [],
   "source": [
    "y_distr = df['label'].value_counts(normalize=True).sort_index()\n",
    "\n",
    "fig = px.pie(\n",
    "    values=y_distr.values, \n",
    "    names=y_distr.index, \n",
    "    hole=0.50,\n",
    "    color_discrete_sequence=px.colors.sequential.Magma,\n",
    "    template='plotly_white'\n",
    ")\n",
    "\n",
    "fig.update_traces(\n",
    "    textposition='inside', \n",
    "    textinfo='percent+label'\n",
    ")\n",
    "\n",
    "fig.show()"
   ]
  },
  {
   "cell_type": "markdown",
   "id": "0a29061e",
   "metadata": {},
   "source": [
    ">Так как классы распределены достаточно равномерно, \n",
    ">\n",
    ">для оценки качества можно использовать процент правильных ответов"
   ]
  },
  {
   "cell_type": "markdown",
   "id": "cc0c96d7",
   "metadata": {},
   "source": [
    "### Посмотрим на усредненное изображение"
   ]
  },
  {
   "cell_type": "code",
   "execution_count": null,
   "id": "453c4aa5",
   "metadata": {},
   "outputs": [],
   "source": [
    "mean_image = X[y == 5].mean(axis=0).values.reshape(SHAPE)\n",
    "\n",
    "show_image(mean_image)"
   ]
  },
  {
   "cell_type": "markdown",
   "id": "a0a00ffc",
   "metadata": {},
   "source": [
    "## Обучение простой модели"
   ]
  },
  {
   "cell_type": "code",
   "execution_count": null,
   "id": "b6067a41",
   "metadata": {},
   "outputs": [],
   "source": [
    "# Для выбора модели используем одно разделение\n",
    "# Кросс-валидацию сделаем позже для лучшей модели\n",
    "\n",
    "X_train, X_test, y_train, y_test = train_test_split(\n",
    "    X, y,\n",
    "    test_size=0.20,\n",
    "    random_state=SEED,\n",
    "    # Классы распределены равномерно, \n",
    "    # но лучше добавим стратификацию\n",
    "    stratify=y\n",
    ")"
   ]
  },
  {
   "cell_type": "code",
   "execution_count": null,
   "id": "fd642653",
   "metadata": {},
   "outputs": [],
   "source": []
  },
  {
   "cell_type": "code",
   "execution_count": null,
   "id": "7076fa99",
   "metadata": {},
   "outputs": [],
   "source": [
    "def test_knn(n_neighbors, metric_func=accuracy_score):\n",
    "        \n",
    "    knn = KNeighborsClassifier(\n",
    "        n_neighbors=n_neighbors\n",
    "    \n",
    "    )\n",
    "    knn.fit(X_train, y_train)\n",
    "        \n",
    "    return metric_func(\n",
    "        y_test,\n",
    "        knn.predict(X_test)\n",
    "    )"
   ]
  },
  {
   "cell_type": "code",
   "execution_count": null,
   "id": "ab2d19e7",
   "metadata": {},
   "outputs": [],
   "source": [
    "# Поиск лучшего параметра \"число соседей\"\n",
    "k_search = {\n",
    "    i: test_knn(n_neighbors=i)\n",
    "    for i in range(1, 11)\n",
    "}"
   ]
  },
  {
   "cell_type": "code",
   "execution_count": null,
   "id": "565aefa5",
   "metadata": {},
   "outputs": [],
   "source": [
    "def _create_figure(search_dict, name, line_color):\n",
    "    fig = px.line(\n",
    "        x=list(search_dict.keys()), \n",
    "        y=list(search_dict.values()), \n",
    "        template='plotly_white'\n",
    "    )\n",
    "    fig.update_traces(\n",
    "        line_color=line_color,\n",
    "        name=name,\n",
    "        showlegend=True,\n",
    "        mode='lines+markers',\n",
    "    )\n",
    "    return fig"
   ]
  },
  {
   "cell_type": "code",
   "execution_count": null,
   "id": "abb80f27",
   "metadata": {},
   "outputs": [],
   "source": [
    "fig = _create_figure(k_search, 'Чистый KNN', 'black')\n",
    "fig.update_layout(\n",
    "    xaxis_title='Число соседей',\n",
    "    yaxis_title='Точность модели (на тесте)'\n",
    ")\n",
    "fig.show()"
   ]
  },
  {
   "cell_type": "code",
   "execution_count": null,
   "id": "cec65c71",
   "metadata": {},
   "outputs": [],
   "source": []
  },
  {
   "cell_type": "markdown",
   "id": "da102fe6",
   "metadata": {},
   "source": [
    "## Добавим метод главных компонент\n",
    "\n",
    ">Проверим, улучшит ли метод главных компонент KNN\n",
    ">\n",
    ">Идея: PCA поможет выделить более ценные признаки"
   ]
  },
  {
   "cell_type": "code",
   "execution_count": null,
   "id": "987f521b",
   "metadata": {},
   "outputs": [],
   "source": [
    "# Будем использовать меньше 10% информации\n",
    "100 * np.array([25, 50, 75]) / (28*28)"
   ]
  },
  {
   "cell_type": "code",
   "execution_count": null,
   "id": "42f5d5f9",
   "metadata": {},
   "outputs": [],
   "source": [
    "# Для удобства напишем свой класс\n",
    "\n",
    "class KNN_with_PCA:\n",
    "    \n",
    "    def __init__(self, n_components, n_neighbors):\n",
    "        self.pca = PCA(n_components=n_components, random_state=SEED)\n",
    "        self.knn = KNeighborsClassifier(n_neighbors=n_neighbors)\n",
    "    \n",
    "    def fit(self, X_train, y_train):\n",
    "        self.pca.fit(X_train)\n",
    "        X_pca = self.pca.transform(X_train)\n",
    "        \n",
    "        self.knn.fit(X_pca, y_train)\n",
    "        \n",
    "    def predict(self, X_test):\n",
    "        X_pca = self.pca.transform(X_test)\n",
    "        return self.knn.predict(X_pca)"
   ]
  },
  {
   "cell_type": "code",
   "execution_count": null,
   "id": "e2804860",
   "metadata": {},
   "outputs": [],
   "source": [
    "def test_pca_knn(n_components, n_neighbors, metric_func=accuracy_score):\n",
    "    \n",
    "    model = KNN_with_PCA(n_components=n_components, n_neighbors=n_neighbors)\n",
    "    model.fit(X_train, y_train)\n",
    "    \n",
    "    return metric_func(\n",
    "        y_test,\n",
    "        model.predict(X_test)\n",
    "    )"
   ]
  },
  {
   "cell_type": "code",
   "execution_count": null,
   "id": "28b7423a",
   "metadata": {
    "scrolled": true
   },
   "outputs": [],
   "source": [
    "search_dicts = {\n",
    "    n_components: {\n",
    "        i: test_pca_knn(n_neighbors=i, n_components=n_components)\n",
    "        for i in range(1, 11)\n",
    "    }\n",
    "    # Проверим 25/50/75 компонент\n",
    "    for n_components in [25, 50, 75]\n",
    "}"
   ]
  },
  {
   "cell_type": "markdown",
   "id": "265ba0cc",
   "metadata": {},
   "source": [
    "### Сравнение чистого KNN и PCA+KNN"
   ]
  },
  {
   "cell_type": "code",
   "execution_count": null,
   "id": "c6335189",
   "metadata": {
    "scrolled": false
   },
   "outputs": [],
   "source": [
    "fig = _create_figure(k_search, name='Чистый KNN', line_color='black')\n",
    "\n",
    "colors = {\n",
    "    25: 'orange',\n",
    "    50: 'green',\n",
    "    75: 'darkblue'\n",
    "}\n",
    "\n",
    "for i in [25, 50, 75]:\n",
    "    fig_this = _create_figure(search_dicts[i], name=f'PCA ({i}) + KNN', line_color=colors[i])\n",
    "    fig.add_traces(fig_this.data)\n",
    "\n",
    "fig.update_traces(\n",
    "    showlegend=True,\n",
    "    mode='lines+markers',\n",
    ")\n",
    "\n",
    "fig.update_layout(\n",
    "    template='plotly_white',\n",
    "    xaxis_title='Число соседей',\n",
    "    yaxis_title='Точность модели (на тесте)',\n",
    ")\n",
    "\n",
    "fig.show()"
   ]
  },
  {
   "cell_type": "markdown",
   "id": "ed9ac4f7",
   "metadata": {},
   "source": [
    ">**PCA+KNN** уверенно обходит обычный KNN по точности\n",
    ">\n",
    ">Интересно, что лучше всего подходит 1 ближайший сосед"
   ]
  },
  {
   "cell_type": "markdown",
   "id": "fcca0a3a",
   "metadata": {},
   "source": [
    "### Посмотрим матрицу ошибок"
   ]
  },
  {
   "cell_type": "code",
   "execution_count": null,
   "id": "b8e97f07",
   "metadata": {},
   "outputs": [],
   "source": [
    "conf_matrix = test_pca_knn(\n",
    "    n_components=50, \n",
    "    n_neighbors=1, \n",
    "    metric_func=confusion_matrix\n",
    ")"
   ]
  },
  {
   "cell_type": "code",
   "execution_count": null,
   "id": "549f78ba",
   "metadata": {},
   "outputs": [],
   "source": [
    "fig = px.imshow(\n",
    "    conf_matrix,\n",
    "    text_auto=True,\n",
    "    color_continuous_scale='greys'\n",
    ")\n",
    "\n",
    "fig.update_xaxes(visible=False)\n",
    "fig.update_yaxes(visible=False)\n",
    "\n",
    "fig.show()"
   ]
  },
  {
   "cell_type": "markdown",
   "id": "d0d9bb25",
   "metadata": {},
   "source": [
    ">Матрица ошибок также выглядит хорошо"
   ]
  },
  {
   "cell_type": "markdown",
   "id": "a2360920",
   "metadata": {},
   "source": [
    "### Кросс-валидация"
   ]
  },
  {
   "cell_type": "code",
   "execution_count": null,
   "id": "f68d12fd",
   "metadata": {},
   "outputs": [],
   "source": [
    "# Выбранная модель\n",
    "chosen_model = KNN_with_PCA(\n",
    "    n_components=50, \n",
    "    n_neighbors=1\n",
    ")\n",
    "\n",
    "splitter = StratifiedKFold(\n",
    "    n_splits=5, \n",
    "    shuffle=True, \n",
    "    random_state=SEED\n",
    ")\n",
    "kfold = enumerate(splitter.split(X, y))\n",
    "\n",
    "cross_validation_accuracy = {}\n",
    "for i, (train_index, test_index) in kfold:\n",
    "    \n",
    "    chosen_model.fit(X.iloc[train_index], y.iloc[train_index])\n",
    "    \n",
    "    cross_validation_accuracy[i] = accuracy_score(\n",
    "        y.iloc[test_index],\n",
    "        chosen_model.predict(X.iloc[test_index])\n",
    "    )"
   ]
  },
  {
   "cell_type": "code",
   "execution_count": null,
   "id": "1aac41ca",
   "metadata": {},
   "outputs": [],
   "source": [
    "fig = _create_figure(\n",
    "    cross_validation_accuracy, \n",
    "    name='Кросс-валидация', \n",
    "    line_color='green'\n",
    ")\n",
    "fig.update_traces(\n",
    "    showlegend=True,\n",
    "    mode='lines+markers',\n",
    "    line_dash='dash',\n",
    ")\n",
    "fig.update_layout(\n",
    "    xaxis_title='Номер итерации',\n",
    "    yaxis_title='Точность модели (на тесте)'\n",
    ")\n",
    "fig.show()"
   ]
  },
  {
   "cell_type": "markdown",
   "id": "b9b8467e",
   "metadata": {},
   "source": [
    ">Хотя есть различия по итерациям, в целом модель работает достаточно стабильно"
   ]
  },
  {
   "cell_type": "code",
   "execution_count": null,
   "id": "14fe9e5a",
   "metadata": {},
   "outputs": [],
   "source": []
  },
  {
   "cell_type": "code",
   "execution_count": null,
   "id": "91c04a83",
   "metadata": {},
   "outputs": [],
   "source": []
  }
 ],
 "metadata": {
  "kernelspec": {
   "display_name": "Python 3 (ipykernel)",
   "language": "python",
   "name": "python3"
  },
  "language_info": {
   "codemirror_mode": {
    "name": "ipython",
    "version": 3
   },
   "file_extension": ".py",
   "mimetype": "text/x-python",
   "name": "python",
   "nbconvert_exporter": "python",
   "pygments_lexer": "ipython3",
   "version": "3.9.13"
  }
 },
 "nbformat": 4,
 "nbformat_minor": 5
}
