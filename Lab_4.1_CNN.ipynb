{
 "cells": [
  {
   "cell_type": "code",
   "execution_count": null,
   "id": "19da74f3",
   "metadata": {},
   "outputs": [],
   "source": [
    "# База\n",
    "import numpy as np\n",
    "import pandas as pd\n",
    "from sklearn.model_selection import train_test_split\n",
    "\n",
    "# Нейронные сети\n",
    "import tensorflow as tf\n",
    "from tensorflow.keras.models import Sequential\n",
    "# Свертка\n",
    "from tensorflow.keras.layers import Conv2D, MaxPooling2D\n",
    "# Полносвязная\n",
    "from tensorflow.keras.layers import Dense, Flatten, Dropout\n",
    "\n",
    "# Визуализация\n",
    "import plotly.express as px\n",
    "from matplotlib.image import imread"
   ]
  },
  {
   "cell_type": "code",
   "execution_count": null,
   "id": "5dff6c31",
   "metadata": {},
   "outputs": [],
   "source": [
    "# Важные константы\n",
    "# Для воспроизводимости\n",
    "SEED = 202212\n",
    "# Размер изображений\n",
    "SHAPE = (28, 28)\n",
    "# Сохраненная модель\n",
    "SAVE_PATH = 'weights/maximdu_cnn'"
   ]
  },
  {
   "cell_type": "code",
   "execution_count": null,
   "id": "d7eec82a",
   "metadata": {},
   "outputs": [],
   "source": [
    "tf.random.set_seed(SEED)"
   ]
  },
  {
   "cell_type": "markdown",
   "id": "2cdb782d",
   "metadata": {},
   "source": [
    "## Загружаем данные"
   ]
  },
  {
   "cell_type": "markdown",
   "id": "c96d6d9a",
   "metadata": {},
   "source": [
    "> **Источник данных:**\n",
    ">\n",
    "> https://www.kaggle.com/datasets/oddrationale/mnist-in-csv"
   ]
  },
  {
   "cell_type": "markdown",
   "id": "d2679a58",
   "metadata": {},
   "source": [
    "*Так как разведочный анализ уже был в прошлой работе, пропускаем*"
   ]
  },
  {
   "cell_type": "code",
   "execution_count": null,
   "id": "d7f7fd14",
   "metadata": {},
   "outputs": [],
   "source": [
    "# Датасет уже разделен на две части,\n",
    "# но мы потом поделим сами\n",
    "df = pd.concat(\n",
    "    [\n",
    "        pd.read_csv('data/mnist_train.csv'),\n",
    "        pd.read_csv('data/mnist_test.csv'),\n",
    "    ], \n",
    "    ignore_index=True\n",
    ")"
   ]
  },
  {
   "cell_type": "code",
   "execution_count": null,
   "id": "d6d135a5",
   "metadata": {},
   "outputs": [],
   "source": [
    "# Отделяем целевую переменную\n",
    "X = df.drop(columns=['label'])\n",
    "X = X.values\n",
    "\n",
    "y = df['label']\n",
    "y = y.values"
   ]
  },
  {
   "cell_type": "code",
   "execution_count": null,
   "id": "440acb18",
   "metadata": {},
   "outputs": [],
   "source": []
  },
  {
   "cell_type": "markdown",
   "id": "fe01182e",
   "metadata": {},
   "source": [
    "## Преобразования"
   ]
  },
  {
   "cell_type": "code",
   "execution_count": null,
   "id": "0ff39013",
   "metadata": {},
   "outputs": [],
   "source": [
    "# Преобразуем для обучения\n",
    "# Перевод к [0,1]\n",
    "X = X / 255\n",
    "# Для перевода к тензору\n",
    "X = X.reshape((-1, 28, 28, 1))"
   ]
  },
  {
   "cell_type": "code",
   "execution_count": null,
   "id": "a24635fe",
   "metadata": {},
   "outputs": [],
   "source": [
    "X_train, X_test, y_train, y_test = train_test_split(\n",
    "    X, y,\n",
    "    test_size=0.20,\n",
    "    random_state=SEED,\n",
    "    stratify=y\n",
    ")"
   ]
  },
  {
   "cell_type": "code",
   "execution_count": null,
   "id": "1af79fce",
   "metadata": {
    "scrolled": false
   },
   "outputs": [],
   "source": [
    "# Переводим в тензор\n",
    "# float16 для экономии памяти\n",
    "X_train = tf.constant(X_train, dtype='float16')\n",
    "X_test = tf.constant(X_test, dtype='float16')"
   ]
  },
  {
   "cell_type": "code",
   "execution_count": null,
   "id": "c0bdba35",
   "metadata": {},
   "outputs": [],
   "source": [
    "# Переводим целевую переменную в One Hot\n",
    "y_train_onehot = tf.keras.utils.to_categorical(y_train)\n",
    "y_test_onehot = tf.keras.utils.to_categorical(y_test)"
   ]
  },
  {
   "cell_type": "code",
   "execution_count": null,
   "id": "7a6d20ea",
   "metadata": {},
   "outputs": [],
   "source": []
  },
  {
   "cell_type": "markdown",
   "id": "f515481e",
   "metadata": {},
   "source": [
    "## Построение модели"
   ]
  },
  {
   "cell_type": "code",
   "execution_count": null,
   "id": "dd36f409",
   "metadata": {},
   "outputs": [],
   "source": [
    "def create_model():\n",
    "    \n",
    "    model = Sequential()\n",
    "\n",
    "    model.add(Conv2D(filters=32,kernel_size=5,activation='relu',input_shape=(28,28,1)))\n",
    "    model.add(MaxPooling2D(pool_size=(2, 2)))\n",
    "\n",
    "    model.add(Conv2D(filters=64,kernel_size=5,activation='relu'))\n",
    "    model.add(MaxPooling2D(pool_size=(2, 2)))\n",
    "\n",
    "    model.add(Flatten())\n",
    "    model.add(Dropout(0.25))\n",
    "\n",
    "    model.add(Dense(128, activation='relu'))\n",
    "    model.add(Dropout(0.25))\n",
    "\n",
    "    model.add(Dense(10, activation='softmax'))\n",
    "    \n",
    "    model.compile(optimizer='adam',\n",
    "                  loss='binary_crossentropy',\n",
    "                  metrics=['accuracy'])\n",
    "    \n",
    "    return model"
   ]
  },
  {
   "cell_type": "code",
   "execution_count": null,
   "id": "9b7a0a45",
   "metadata": {},
   "outputs": [],
   "source": [
    "model = create_model()"
   ]
  },
  {
   "cell_type": "code",
   "execution_count": null,
   "id": "014aa451",
   "metadata": {},
   "outputs": [],
   "source": []
  },
  {
   "cell_type": "code",
   "execution_count": null,
   "id": "b063d82c",
   "metadata": {},
   "outputs": [],
   "source": [
    "# Обучение модели\n",
    "# Если обучается долго, можно загрузить веса\n",
    "# в ячейке с model.load_weights\n",
    "\n",
    "history = model.fit(\n",
    "    X_train, \n",
    "    y_train_onehot, \n",
    "    epochs=8, \n",
    "    validation_data=(X_test, y_test_onehot)\n",
    ")"
   ]
  },
  {
   "cell_type": "code",
   "execution_count": null,
   "id": "69d01047",
   "metadata": {},
   "outputs": [],
   "source": [
    "df_metrics = pd.DataFrame()\n",
    "df_metrics['Точность на обучении (%)'] = history.history['accuracy']\n",
    "df_metrics['Точность на тесте (%)'] = history.history['val_accuracy']\n",
    "df_metrics = df_metrics * 100\n",
    "df_metrics['Эпоха'] = df_metrics.index + 1\n",
    "\n",
    "fig = px.line(\n",
    "    df_metrics,\n",
    "    x='Эпоха',\n",
    "    y=['Точность на обучении (%)', 'Точность на тесте (%)'],\n",
    "    template='plotly_white'\n",
    ")\n",
    "\n",
    "fig.update_traces(\n",
    "    mode='lines+markers'\n",
    ")\n",
    "\n",
    "fig.data[0].line.color = 'black'\n",
    "fig.data[1].line.color = 'green'\n",
    "\n",
    "fig.update_layout(\n",
    "    legend_yanchor='bottom',\n",
    "    legend_xanchor='right',\n",
    "    legend_y=0.1,\n",
    "    legend_x=0.9,\n",
    "    legend_title_text='',\n",
    "    \n",
    "    height=450,\n",
    "    width=980\n",
    ")\n",
    "\n",
    "fig.show()"
   ]
  },
  {
   "cell_type": "code",
   "execution_count": null,
   "id": "c1638a95",
   "metadata": {},
   "outputs": [],
   "source": [
    "model.save_weights(SAVE_PATH);"
   ]
  },
  {
   "cell_type": "code",
   "execution_count": null,
   "id": "3e3aecd6",
   "metadata": {},
   "outputs": [],
   "source": []
  },
  {
   "cell_type": "markdown",
   "id": "831de64c",
   "metadata": {},
   "source": [
    "## Результаты обучения"
   ]
  },
  {
   "cell_type": "code",
   "execution_count": null,
   "id": "8f3ff914",
   "metadata": {},
   "outputs": [],
   "source": [
    "model = create_model()\n",
    "model.load_weights(SAVE_PATH);"
   ]
  },
  {
   "cell_type": "code",
   "execution_count": null,
   "id": "e09313be",
   "metadata": {},
   "outputs": [],
   "source": [
    "# Получаем предсказания\n",
    "pred_proba = model.predict(X_test)\n",
    "pred_label = pred_proba.argmax(axis=1)"
   ]
  },
  {
   "cell_type": "markdown",
   "id": "fb7d3f5c",
   "metadata": {},
   "source": [
    "### Посмотрим неправильно предсказанные"
   ]
  },
  {
   "cell_type": "code",
   "execution_count": null,
   "id": "93b89fa7",
   "metadata": {},
   "outputs": [],
   "source": [
    "wrong = ( pred_label != y_test )"
   ]
  },
  {
   "cell_type": "code",
   "execution_count": null,
   "id": "6738b446",
   "metadata": {},
   "outputs": [],
   "source": [
    "def show_image(matrix):\n",
    "    \"\"\"Показывает изображение\"\"\"\n",
    "    \n",
    "    fig = px.imshow(\n",
    "        matrix, \n",
    "        color_continuous_scale=['white', 'black']\n",
    "    )\n",
    "    fig.update_layout(\n",
    "        width=650, \n",
    "        height=650, \n",
    "        coloraxis_showscale=False\n",
    "    )\n",
    "    \n",
    "    fig.show()"
   ]
  },
  {
   "cell_type": "code",
   "execution_count": null,
   "id": "7d2fbc6e",
   "metadata": {
    "scrolled": false
   },
   "outputs": [],
   "source": [
    "for k in range(10):\n",
    "    print('Пометка из датасета:', y_test[wrong][k] )\n",
    "    print('Предсказанное значение:', pred_label[wrong][k] )\n",
    "    print('Предсказанные вероятности:', pred_proba[wrong][k].round(2) )\n",
    "    show_image( X_test[wrong][k][:, :, 0] )"
   ]
  },
  {
   "cell_type": "markdown",
   "id": "a10e1c22",
   "metadata": {},
   "source": [
    "### Загрузим свое изображение в сеть"
   ]
  },
  {
   "cell_type": "code",
   "execution_count": null,
   "id": "3082910f",
   "metadata": {},
   "outputs": [],
   "source": [
    "image_path = 'data/my5.png'\n",
    "image = imread(image_path)\n",
    "image = 1 - image[:, :, 0]"
   ]
  },
  {
   "cell_type": "code",
   "execution_count": null,
   "id": "12d7caec",
   "metadata": {},
   "outputs": [],
   "source": [
    "show_image(image)"
   ]
  },
  {
   "cell_type": "code",
   "execution_count": null,
   "id": "087ebf24",
   "metadata": {},
   "outputs": [],
   "source": [
    "model.predict(\n",
    "    (image).reshape(-1, 28, 28, 1)\n",
    ").argmax(axis=1)"
   ]
  },
  {
   "cell_type": "markdown",
   "id": "2c9300a5",
   "metadata": {},
   "source": [
    "### Посмотрим фильтры свертки"
   ]
  },
  {
   "cell_type": "code",
   "execution_count": null,
   "id": "29a8e0f0",
   "metadata": {
    "scrolled": false
   },
   "outputs": [],
   "source": [
    "for k_filter in range(5):\n",
    "\n",
    "    filter_ = np.array(\n",
    "        model.layers[0].kernel[:, :, 0, k_filter]\n",
    "    )\n",
    "\n",
    "    fig = px.imshow(\n",
    "        filter_, \n",
    "        color_continuous_scale=['red', 'white', 'blue'],\n",
    "        color_continuous_midpoint=0,\n",
    "    )\n",
    "    fig.update_layout(\n",
    "        width=650, \n",
    "        height=650, \n",
    "        coloraxis_showscale=True\n",
    "    )\n",
    "\n",
    "    fig.show()"
   ]
  },
  {
   "cell_type": "code",
   "execution_count": null,
   "id": "e0abee4f",
   "metadata": {},
   "outputs": [],
   "source": []
  }
 ],
 "metadata": {
  "kernelspec": {
   "display_name": "Python 3 (ipykernel)",
   "language": "python",
   "name": "python3"
  },
  "language_info": {
   "codemirror_mode": {
    "name": "ipython",
    "version": 3
   },
   "file_extension": ".py",
   "mimetype": "text/x-python",
   "name": "python",
   "nbconvert_exporter": "python",
   "pygments_lexer": "ipython3",
   "version": "3.9.13"
  }
 },
 "nbformat": 4,
 "nbformat_minor": 5
}
